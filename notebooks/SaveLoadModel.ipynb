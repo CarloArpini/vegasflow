{
 "cells": [
  {
   "cell_type": "code",
   "execution_count": 82,
   "metadata": {},
   "outputs": [],
   "source": [
    "import tensorflow as tf\n",
    "import numpy as np"
   ]
  },
  {
   "cell_type": "markdown",
   "metadata": {},
   "source": [
    "## Save custom model"
   ]
  },
  {
   "cell_type": "code",
   "execution_count": 83,
   "metadata": {},
   "outputs": [],
   "source": [
    "class Integrand(tf.Module):\n",
    "\n",
    "    @tf.function(\n",
    "        input_signature=[\n",
    "            tf.TensorSpec(shape=None, dtype=tf.float64),\n",
    "            tf.TensorSpec(shape=None, dtype=tf.float64)\n",
    "        ])\n",
    "    def quick_integrand(self, xarr, n_dim):\n",
    "        \"\"\"Le page test function\"\"\"\n",
    "        a = tf.constant(0.1, dtype=tf.float64)\n",
    "        n100 = tf.cast(100*n_dim, dtype=tf.float64)\n",
    "        pref = tf.pow(1.0/a/np.sqrt(np.pi), n_dim)\n",
    "        coef = tf.reduce_sum(tf.range(n100+1))\n",
    "        coef +=  tf.reduce_sum(tf.square( (xarr-1.0/2.0)/a ), axis=1)\n",
    "        coef -= (n100+1)*n100/2.0\n",
    "        return pref*tf.exp(-coef)"
   ]
  },
  {
   "cell_type": "code",
   "execution_count": 84,
   "metadata": {},
   "outputs": [
    {
     "name": "stdout",
     "output_type": "stream",
     "text": [
      "INFO:tensorflow:Assets written to: model/assets\n"
     ]
    }
   ],
   "source": [
    "original_model = Integrand()\n",
    "tf.saved_model.save(original_model, 'model')"
   ]
  },
  {
   "cell_type": "code",
   "execution_count": 85,
   "metadata": {},
   "outputs": [],
   "source": [
    "xx = np.array([[0.2]])\n",
    "r1 = original_model.quick_integrand(xx, 2)"
   ]
  },
  {
   "cell_type": "markdown",
   "metadata": {},
   "source": [
    "## Load custom model from file"
   ]
  },
  {
   "cell_type": "code",
   "execution_count": 86,
   "metadata": {},
   "outputs": [],
   "source": [
    "k = tf.saved_model.load('model')"
   ]
  },
  {
   "cell_type": "code",
   "execution_count": 87,
   "metadata": {},
   "outputs": [],
   "source": [
    "r2 = k.quick_integrand(xx, 2)"
   ]
  },
  {
   "cell_type": "code",
   "execution_count": 88,
   "metadata": {},
   "outputs": [],
   "source": [
    "assert r1 == r2, 'Model save/load has problems!'"
   ]
  }
 ],
 "metadata": {
  "kernelspec": {
   "display_name": "Python 3",
   "language": "python",
   "name": "python3"
  },
  "language_info": {
   "codemirror_mode": {
    "name": "ipython",
    "version": 3
   },
   "file_extension": ".py",
   "mimetype": "text/x-python",
   "name": "python",
   "nbconvert_exporter": "python",
   "pygments_lexer": "ipython3",
   "version": "3.7.5"
  }
 },
 "nbformat": 4,
 "nbformat_minor": 2
}
