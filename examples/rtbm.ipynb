{
 "cells": [
  {
   "cell_type": "markdown",
   "metadata": {},
   "source": [
    "# Modelling and sampling densities"
   ]
  },
  {
   "cell_type": "code",
   "execution_count": 23,
   "metadata": {},
   "outputs": [],
   "source": [
    "import numpy as np\n",
    "import warnings\n",
    "warnings.filterwarnings('ignore')\n",
    "from scipy.stats import gamma\n",
    "from theta.rtbm import RTBM\n",
    "from theta.minimizer import CMA\n",
    "from theta.costfunctions import logarithmic\n",
    "import matplotlib.pyplot as plt\n",
    "%matplotlib inline"
   ]
  },
  {
   "cell_type": "markdown",
   "metadata": {},
   "source": [
    "## Generate data from known density"
   ]
  },
  {
   "cell_type": "code",
   "execution_count": 32,
   "metadata": {},
   "outputs": [
    {
     "data": {
      "image/png": "[encoded data removed]",
      "text/plain": [
       "<Figure size 432x288 with 1 Axes>"
      ]
     },
     "metadata": {
      "needs_background": "light"
     },
     "output_type": "display_data"
    }
   ],
   "source": [
    "samples = 100\n",
    "np.random.seed(0)\n",
    "data = gamma.rvs(7.5, scale=1, size=samples).reshape(1,-1)\n",
    "data = np.select([np.abs(data) < 20], data)\n",
    "data = data / np.max(data)\n",
    "plt.hist(data.T, bins=50, density=True, color=\"lightgray\", label='input sample');"
   ]
  },
  {
   "cell_type": "markdown",
   "metadata": {},
   "source": [
    "## Training the RTBM"
   ]
  },
  {
   "cell_type": "code",
   "execution_count": 33,
   "metadata": {},
   "outputs": [],
   "source": [
    "model = RTBM(1, 2, init_max_param_bound=50, random_bound=1)"
   ]
  },
  {
   "cell_type": "code",
   "execution_count": 34,
   "metadata": {},
   "outputs": [
    {
     "name": "stdout",
     "output_type": "stream",
     "text": [
      "CMA on 1 cpu(s) enabled\n",
      "(5_w,10)-aCMA-ES (mu_w=3.2,w_1=45%) in dimension 9 (seed=666659, Sat Nov 28 12:27:22 2020)\n",
      "Iterat #Fevals   function value  axis ratio  sigma  min&max std  t[m:s]\n",
      "    1     10 2.139415627452588e+01 1.0e+00 5.40e+00  5e+00  6e+00 0:00.0\n",
      "    2     20 1.658072735111648e+01 1.1e+00 5.71e+00  5e+00  6e+00 0:00.1\n",
      "    3     30 8.381787929158365e+00 1.3e+00 5.80e+00  6e+00  6e+00 0:00.1\n",
      "  100   1000 -2.982650739154452e+01 2.1e+01 1.58e+00  7e-01  2e+00 0:03.1\n",
      "  153   1530 -3.044454302851792e+01 3.7e+01 5.68e-01  9e-02  6e-01 0:04.6\n",
      "CMAEvolutionStrategyResult(xbest=array([-21.88331174,   0.59802132,   2.14963063,  14.83090132,\n",
      "        20.26582946,  49.90047415,  21.25397055,   9.96310993,\n",
      "        49.99971408]), fbest=-30.44454302851792, evals_best=1526, evaluations=1530, iterations=153, xfavorite=array([-21.88002972,   0.45990748,   2.55151609,  14.80814107,\n",
      "        20.16333225,  49.84202983,  20.97583775,   9.483411  ,\n",
      "        49.94551525]), stds=array([0.08843506, 0.20134483, 0.4323072 , 0.18226982, 0.32139878,\n",
      "       0.27930148, 0.34173102, 0.64716585, 0.48207297]), stop={'tolfun': 0.1})\n"
     ]
    }
   ],
   "source": [
    "optimizer = CMA()\n",
    "solution = optimizer.train(logarithmic, model, data, tolfun=1e-1)"
   ]
  },
  {
   "cell_type": "markdown",
   "metadata": {},
   "source": [
    "## Use RTBM to sample"
   ]
  },
  {
   "cell_type": "code",
   "execution_count": 35,
   "metadata": {},
   "outputs": [
    {
     "data": {
      "text/plain": [
       "<matplotlib.legend.Legend at 0x7fc68f36d5e0>"
      ]
     },
     "execution_count": 35,
     "metadata": {},
     "output_type": "execute_result"
    },
    {
     "data": {
      "image/png": "[encoded data removed]",
      "text/plain": [
       "<Figure size 432x288 with 1 Axes>"
      ]
     },
     "metadata": {
      "needs_background": "light"
     },
     "output_type": "display_data"
    }
   ],
   "source": [
    "np.random.seed(2)\n",
    "test_data = (np.linspace(0, 1, 100)).reshape(1, -1)\n",
    "plt.hist(data.T, bins=50, density=True, color=\"lightgray\", label='input sample')\n",
    "plt.plot(test_data.flatten(), model(test_data).flatten(), 'r-')\n",
    "plt.hist(model.make_sample(2000)[0], density=True, bins=50, alpha=0.5, label='RTBM sample');\n",
    "plt.xlim([0,1]);\n",
    "plt.legend()"
   ]
  }
 ],
 "metadata": {
  "kernelspec": {
   "display_name": "Python 3",
   "language": "python",
   "name": "python3"
  },
  "language_info": {
   "codemirror_mode": {
    "name": "ipython",
    "version": 3
   },
   "file_extension": ".py",
   "mimetype": "text/x-python",
   "name": "python",
   "nbconvert_exporter": "python",
   "pygments_lexer": "ipython3",
   "version": "3.8.3"
  }
 },
 "nbformat": 4,
 "nbformat_minor": 4
}
