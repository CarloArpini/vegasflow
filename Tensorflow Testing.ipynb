{
 "cells": [
  {
   "cell_type": "code",
   "execution_count": 1,
   "metadata": {},
   "outputs": [],
   "source": [
    "import tensorflow as tf\n",
    "import numpy as np"
   ]
  },
  {
   "cell_type": "code",
   "execution_count": 2,
   "metadata": {},
   "outputs": [
    {
     "name": "stdout",
     "output_type": "stream",
     "text": [
      "tf.Tensor(9, shape=(), dtype=int32)\n",
      "tf.Tensor(7, shape=(), dtype=int32)\n",
      "tf.Tensor([7 9], shape=(2,), dtype=int64)\n"
     ]
    }
   ],
   "source": [
    "@tf.function\n",
    "def add(a, b):\n",
    "  return a + b\n",
    "print(add(4,5))\n",
    "aa = tf.constant(3)\n",
    "bb = tf.constant(4)\n",
    "cc = tf.constant(np.array([3,4]))\n",
    "dd = tf.constant(np.array([4,5]))\n",
    "print(add(aa,bb))\n",
    "print(add(cc,dd))"
   ]
  },
  {
   "cell_type": "code",
   "execution_count": 83,
   "metadata": {},
   "outputs": [],
   "source": [
    "n_dim = 3\n",
    "BINS_MAX = 5\n",
    "n_events = int(2e1)\n",
    "DTYPE=tf.float64\n",
    "DTYPEINT=tf.int64\n",
    "x = tf.Variable(tf.zeros(n_dim, dtype=DTYPE))\n",
    "div_index = tf.Variable(tf.zeros((n_dim), dtype=DTYPEINT))\n",
    "reg_i = 0.0\n",
    "reg_f = 1.0\n",
    "\n",
    "def int_me(i):\n",
    "    return tf.constant(i, dtype = DTYPEINT)\n",
    "def float_me(i):\n",
    "    return tf.constant(i, dtype = DTYPE)\n",
    "\n",
    "ione = int_me(1)\n",
    "izero = int_me(0)\n",
    "fone = float_me(1)\n",
    "fzero = float_me(0)\n",
    "\n",
    "shape_rn = tf.TensorSpec(shape=(None,1), dtype=DTYPE)\n",
    "shape_sub = tf.TensorSpec(shape=(None, BINS_MAX), dtype = DTYPE)"
   ]
  },
  {
   "cell_type": "markdown",
   "metadata": {},
   "source": [
    "The first step is to be able to do the generation of the random numbers in a batched way"
   ]
  },
  {
   "cell_type": "code",
   "execution_count": 135,
   "metadata": {},
   "outputs": [
    {
     "name": "stdout",
     "output_type": "stream",
     "text": [
      "(3, 5)\n",
      "IN shape: (1000, 3)\n",
      "OUT shape x: (1000, 3)\n",
      "OUT shape index: (1000, 3)\n",
      "OUT shape weight: (1000,)\n"
     ]
    }
   ],
   "source": [
    "ione = int_me(1)\n",
    "izero = int_me(0)\n",
    "fone = float_me(1)\n",
    "fzero = float_me(0)\n",
    "n_events = 1000\n",
    "\n",
    "shape_rn = tf.TensorSpec(shape=(None, n_dim), dtype=DTYPE)\n",
    "shape_sub = tf.TensorSpec(shape=(n_dim, BINS_MAX), dtype = DTYPE)\n",
    "\n",
    "@tf.function(input_signature=[shape_rn, shape_sub])\n",
    "def gen_one_dim(rn, subdivision):\n",
    "    \"\"\" Digest one random number\n",
    "    \"\"\"\n",
    "    # Get the corresponding random number\n",
    "    xn = BINS_MAX*(1.0 - rn)\n",
    "    int_xn = tf.maximum(tf.cast(0, DTYPEINT),\n",
    "                       tf.minimum(tf.cast(xn, DTYPEINT), BINS_MAX))\n",
    "    # In practice int_xn = int(xn)-1 unless xn < 1\n",
    "    aux_rand = xn - tf.cast(int_xn, dtype=DTYPE)\n",
    "    # Now get the indices that will be used with this subdivision\n",
    "    # If the index is 0, we cannot get the index-1 so...\n",
    "    ind_f = tf.transpose(int_xn)\n",
    "    ind_i = tf.maximum(ind_f - 1, 0)\n",
    "    gather_f = tf.gather(subdivision, ind_f, batch_dims=1)\n",
    "    gather_i_tmp = tf.gather(subdivision, ind_i, batch_dims=1)\n",
    "    # Now the ones that had a \"fake 0\" need to be set to 0\n",
    "    ind_is_0 = tf.equal(ind_f, 0)\n",
    "    gather_i = tf.where(ind_is_0, fzero, gather_i_tmp)\n",
    "    # Now compute the random number for this dimension\n",
    "    x_ini = tf.transpose(gather_i)\n",
    "    xdelta = tf.transpose(gather_f) - x_ini\n",
    "    rand_x = x_ini + xdelta*aux_rand\n",
    "    x = reg_i + rand_x*(reg_f - reg_i)\n",
    "    weights = tf.reduce_prod(xdelta*BINS_MAX, axis=1)\n",
    "    return x, int_xn, weights\n",
    "oner = tf.random.uniform((n_events, n_dim), minval = 0.0, maxval=1.0, dtype=DTYPE)\n",
    "#gen_one_dim(oner, divisions)\n",
    "x, ind, w = gen_one_dim(oner, divisions)\n",
    "print(divisions.shape)\n",
    "print(f\"IN shape: {oner.shape}\")\n",
    "print(f\"OUT shape x: {x.shape}\")\n",
    "print(f\"OUT shape index: {ind.shape}\")\n",
    "print(f\"OUT shape weight: {w.shape}\")"
   ]
  },
  {
   "cell_type": "markdown",
   "metadata": {},
   "source": [
    "The same must be also possible for the integrand"
   ]
  },
  {
   "cell_type": "code",
   "execution_count": 136,
   "metadata": {},
   "outputs": [],
   "source": [
    "@tf.function\n",
    "def quick_integrand(xarr, n_dim = None):\n",
    "    \"\"\"Le page test function\"\"\"\n",
    "    if n_dim is None:\n",
    "        n_dim = xarr.shape[-1]\n",
    "    a = tf.constant(0.1, dtype=DTYPE)\n",
    "    n100 = tf.cast(100*n_dim, dtype=DTYPE)\n",
    "    pref = tf.pow(1.0/a/np.sqrt(np.pi), n_dim)\n",
    "    coef = fzero\n",
    "    for i in range(n100+1):\n",
    "        coef += i\n",
    "    for i in range(n_dim):\n",
    "        coef += tf.pow( (x[:,i]-1.0/2.0)/a, 2)\n",
    "    coef -= (n100+1)*n100/2.0\n",
    "    return pref*tf.exp(-coef)\n",
    "tmp = quick_integrand(x, n_dim=n_dim)/n_events\n",
    "tmp2 = tf.square(tmp)"
   ]
  },
  {
   "cell_type": "markdown",
   "metadata": {},
   "source": [
    "And, finally, the same must also be true for the creation of the array of partial results per BIN"
   ]
  },
  {
   "cell_type": "code",
   "execution_count": 208,
   "metadata": {},
   "outputs": [],
   "source": [
    "my_dim = 1\n",
    "all_ind = ind[:,0:my_dim]"
   ]
  },
  {
   "cell_type": "code",
   "execution_count": 209,
   "metadata": {},
   "outputs": [
    {
     "name": "stdout",
     "output_type": "stream",
     "text": [
      "CPU times: user 1.02 s, sys: 2.9 ms, total: 1.02 s\n",
      "Wall time: 1.02 s\n"
     ]
    }
   ],
   "source": [
    "%%time \n",
    "np_i = all_ind.numpy()\n",
    "np_tmp2 = tmp2.numpy()\n",
    "arr_res2 = np.zeros((my_dim, BINS_MAX))\n",
    "for i in range(n_events):\n",
    "    for j in range(my_dim):\n",
    "        arr_res2[j, np_i[i, j]] += tmp2[i]"
   ]
  },
  {
   "cell_type": "code",
   "execution_count": 210,
   "metadata": {},
   "outputs": [
    {
     "name": "stdout",
     "output_type": "stream",
     "text": [
      "CPU times: user 127 ms, sys: 3.22 ms, total: 130 ms\n",
      "Wall time: 127 ms\n"
     ]
    }
   ],
   "source": [
    "%%time\n",
    "if my_dim == 1:\n",
    "    arr_res2 = []\n",
    "    for i in range(BINS_MAX):\n",
    "        mask = tf.equal(all_ind, i)[:,0]\n",
    "        res_tmp = tf.reduce_sum(tf.boolean_mask(tmp2, mask))\n",
    "        arr_res2.append(res_tmp.numpy())"
   ]
  },
  {
   "cell_type": "code",
   "execution_count": 229,
   "metadata": {},
   "outputs": [
    {
     "ename": "InvalidArgumentError",
     "evalue": "Incompatible shapes: [1000] vs. [5] [Op:Equal]",
     "output_type": "error",
     "traceback": [
      "\u001b[0;31m--------------------------------------------------------------------\u001b[0m",
      "\u001b[0;31mInvalidArgumentError\u001b[0m               Traceback (most recent call last)",
      "\u001b[0;32m<timed exec>\u001b[0m in \u001b[0;36m<module>\u001b[0;34m\u001b[0m\n",
      "\u001b[0;32m<timed exec>\u001b[0m in \u001b[0;36mconsume_events\u001b[0;34m(res2, ind)\u001b[0m\n",
      "\u001b[0;32m~/Academic_Workspace/NNPDF-bin/miniconda3/lib/python3.7/site-packages/tensorflow_core/python/util/dispatch.py\u001b[0m in \u001b[0;36mwrapper\u001b[0;34m(*args, **kwargs)\u001b[0m\n\u001b[1;32m    178\u001b[0m     \u001b[0;34m\"\"\"Call target, and fall back on dispatchers if there is a TypeError.\"\"\"\u001b[0m\u001b[0;34m\u001b[0m\u001b[0;34m\u001b[0m\u001b[0m\n\u001b[1;32m    179\u001b[0m     \u001b[0;32mtry\u001b[0m\u001b[0;34m:\u001b[0m\u001b[0;34m\u001b[0m\u001b[0;34m\u001b[0m\u001b[0m\n\u001b[0;32m--> 180\u001b[0;31m       \u001b[0;32mreturn\u001b[0m \u001b[0mtarget\u001b[0m\u001b[0;34m(\u001b[0m\u001b[0;34m*\u001b[0m\u001b[0margs\u001b[0m\u001b[0;34m,\u001b[0m \u001b[0;34m**\u001b[0m\u001b[0mkwargs\u001b[0m\u001b[0;34m)\u001b[0m\u001b[0;34m\u001b[0m\u001b[0;34m\u001b[0m\u001b[0m\n\u001b[0m\u001b[1;32m    181\u001b[0m     \u001b[0;32mexcept\u001b[0m \u001b[0;34m(\u001b[0m\u001b[0mTypeError\u001b[0m\u001b[0;34m,\u001b[0m \u001b[0mValueError\u001b[0m\u001b[0;34m)\u001b[0m\u001b[0;34m:\u001b[0m\u001b[0;34m\u001b[0m\u001b[0;34m\u001b[0m\u001b[0m\n\u001b[1;32m    182\u001b[0m       \u001b[0;31m# Note: convert_to_eager_tensor currently raises a ValueError, not a\u001b[0m\u001b[0;34m\u001b[0m\u001b[0;34m\u001b[0m\u001b[0;34m\u001b[0m\u001b[0m\n",
      "\u001b[0;32m~/Academic_Workspace/NNPDF-bin/miniconda3/lib/python3.7/site-packages/tensorflow_core/python/ops/math_ops.py\u001b[0m in \u001b[0;36mequal\u001b[0;34m(x, y, name)\u001b[0m\n\u001b[1;32m   1304\u001b[0m     \u001b[0mA\u001b[0m\u001b[0;31m \u001b[0m\u001b[0;31m`\u001b[0m\u001b[0mTensor\u001b[0m\u001b[0;31m`\u001b[0m \u001b[0mof\u001b[0m \u001b[0mtype\u001b[0m \u001b[0mbool\u001b[0m \u001b[0;32mwith\u001b[0m \u001b[0mthe\u001b[0m \u001b[0msame\u001b[0m \u001b[0msize\u001b[0m \u001b[0;32mas\u001b[0m \u001b[0mthat\u001b[0m \u001b[0mof\u001b[0m \u001b[0mx\u001b[0m \u001b[0;32mor\u001b[0m \u001b[0my\u001b[0m\u001b[0;34m.\u001b[0m\u001b[0;34m\u001b[0m\u001b[0;34m\u001b[0m\u001b[0m\n\u001b[1;32m   1305\u001b[0m   \"\"\"\n\u001b[0;32m-> 1306\u001b[0;31m   \u001b[0;32mreturn\u001b[0m \u001b[0mgen_math_ops\u001b[0m\u001b[0;34m.\u001b[0m\u001b[0mequal\u001b[0m\u001b[0;34m(\u001b[0m\u001b[0mx\u001b[0m\u001b[0;34m,\u001b[0m \u001b[0my\u001b[0m\u001b[0;34m,\u001b[0m \u001b[0mname\u001b[0m\u001b[0;34m=\u001b[0m\u001b[0mname\u001b[0m\u001b[0;34m)\u001b[0m\u001b[0;34m\u001b[0m\u001b[0;34m\u001b[0m\u001b[0m\n\u001b[0m\u001b[1;32m   1307\u001b[0m \u001b[0;34m\u001b[0m\u001b[0m\n\u001b[1;32m   1308\u001b[0m \u001b[0;34m\u001b[0m\u001b[0m\n",
      "\u001b[0;32m~/Academic_Workspace/NNPDF-bin/miniconda3/lib/python3.7/site-packages/tensorflow_core/python/ops/gen_math_ops.py\u001b[0m in \u001b[0;36mequal\u001b[0;34m(x, y, incompatible_shape_error, name)\u001b[0m\n\u001b[1;32m   3618\u001b[0m       \u001b[0;32melse\u001b[0m\u001b[0;34m:\u001b[0m\u001b[0;34m\u001b[0m\u001b[0;34m\u001b[0m\u001b[0m\n\u001b[1;32m   3619\u001b[0m         \u001b[0mmessage\u001b[0m \u001b[0;34m=\u001b[0m \u001b[0me\u001b[0m\u001b[0;34m.\u001b[0m\u001b[0mmessage\u001b[0m\u001b[0;34m\u001b[0m\u001b[0;34m\u001b[0m\u001b[0m\n\u001b[0;32m-> 3620\u001b[0;31m       \u001b[0m_six\u001b[0m\u001b[0;34m.\u001b[0m\u001b[0mraise_from\u001b[0m\u001b[0;34m(\u001b[0m\u001b[0m_core\u001b[0m\u001b[0;34m.\u001b[0m\u001b[0m_status_to_exception\u001b[0m\u001b[0;34m(\u001b[0m\u001b[0me\u001b[0m\u001b[0;34m.\u001b[0m\u001b[0mcode\u001b[0m\u001b[0;34m,\u001b[0m \u001b[0mmessage\u001b[0m\u001b[0;34m)\u001b[0m\u001b[0;34m,\u001b[0m \u001b[0;32mNone\u001b[0m\u001b[0;34m)\u001b[0m\u001b[0;34m\u001b[0m\u001b[0;34m\u001b[0m\u001b[0m\n\u001b[0m\u001b[1;32m   3621\u001b[0m   \u001b[0;31m# Add nodes to the TensorFlow graph.\u001b[0m\u001b[0;34m\u001b[0m\u001b[0;34m\u001b[0m\u001b[0;34m\u001b[0m\u001b[0m\n\u001b[1;32m   3622\u001b[0m   \u001b[0;32mif\u001b[0m \u001b[0mincompatible_shape_error\u001b[0m \u001b[0;32mis\u001b[0m \u001b[0;32mNone\u001b[0m\u001b[0;34m:\u001b[0m\u001b[0;34m\u001b[0m\u001b[0;34m\u001b[0m\u001b[0m\n",
      "\u001b[0;32m~/Academic_Workspace/NNPDF-bin/miniconda3/lib/python3.7/site-packages/six.py\u001b[0m in \u001b[0;36mraise_from\u001b[0;34m(value, from_value)\u001b[0m\n",
      "\u001b[0;31mInvalidArgumentError\u001b[0m: Incompatible shapes: [1000] vs. [5] [Op:Equal]"
     ]
    }
   ],
   "source": [
    "%%time\n",
    "def consume_events(res2, ind):\n",
    "    arr_res2 = []\n",
    "    all_bins = tf.range(BINS_MAX, dtype = DTYPEINT)\n",
    "    for j in range(my_dim):\n",
    "        arr_res2.append([])\n",
    "        eq = tf.transpose(tf.equal(ind[:,j], all_bins))\n",
    "        return eq\n",
    "        for i in range(BINS_MAX):\n",
    "            mask = tf.equal(ind, i)[:,j]\n",
    "            res_tmp = tf.reduce_sum(tf.boolean_mask(res2, mask))\n",
    "            arr_res2[j].append(res_tmp)\n",
    "    return arr_res2\n",
    "\n",
    "xx = consume_events(tmp2, all_ind)"
   ]
  },
  {
   "cell_type": "code",
   "execution_count": 227,
   "metadata": {},
   "outputs": [
    {
     "ename": "TypeError",
     "evalue": "equal() missing 1 required positional argument: 'y'",
     "output_type": "error",
     "traceback": [
      "\u001b[0;31m--------------------------------------------------------------------\u001b[0m",
      "\u001b[0;31mTypeError\u001b[0m                          Traceback (most recent call last)",
      "\u001b[0;32m<ipython-input-227-92c86ee436e6>\u001b[0m in \u001b[0;36m<module>\u001b[0;34m\u001b[0m\n\u001b[0;32m----> 1\u001b[0;31m \u001b[0mtf\u001b[0m\u001b[0;34m.\u001b[0m\u001b[0mequal\u001b[0m\u001b[0;34m(\u001b[0m\u001b[0mtf\u001b[0m\u001b[0;34m.\u001b[0m\u001b[0mtranspose\u001b[0m\u001b[0;34m(\u001b[0m\u001b[0mind\u001b[0m\u001b[0;34m)\u001b[0m\u001b[0;34m)\u001b[0m\u001b[0;34m\u001b[0m\u001b[0;34m\u001b[0m\u001b[0m\n\u001b[0m",
      "\u001b[0;32m~/Academic_Workspace/NNPDF-bin/miniconda3/lib/python3.7/site-packages/tensorflow_core/python/util/dispatch.py\u001b[0m in \u001b[0;36mwrapper\u001b[0;34m(*args, **kwargs)\u001b[0m\n\u001b[1;32m    178\u001b[0m     \u001b[0;34m\"\"\"Call target, and fall back on dispatchers if there is a TypeError.\"\"\"\u001b[0m\u001b[0;34m\u001b[0m\u001b[0;34m\u001b[0m\u001b[0m\n\u001b[1;32m    179\u001b[0m     \u001b[0;32mtry\u001b[0m\u001b[0;34m:\u001b[0m\u001b[0;34m\u001b[0m\u001b[0;34m\u001b[0m\u001b[0m\n\u001b[0;32m--> 180\u001b[0;31m       \u001b[0;32mreturn\u001b[0m \u001b[0mtarget\u001b[0m\u001b[0;34m(\u001b[0m\u001b[0;34m*\u001b[0m\u001b[0margs\u001b[0m\u001b[0;34m,\u001b[0m \u001b[0;34m**\u001b[0m\u001b[0mkwargs\u001b[0m\u001b[0;34m)\u001b[0m\u001b[0;34m\u001b[0m\u001b[0;34m\u001b[0m\u001b[0m\n\u001b[0m\u001b[1;32m    181\u001b[0m     \u001b[0;32mexcept\u001b[0m \u001b[0;34m(\u001b[0m\u001b[0mTypeError\u001b[0m\u001b[0;34m,\u001b[0m \u001b[0mValueError\u001b[0m\u001b[0;34m)\u001b[0m\u001b[0;34m:\u001b[0m\u001b[0;34m\u001b[0m\u001b[0;34m\u001b[0m\u001b[0m\n\u001b[1;32m    182\u001b[0m       \u001b[0;31m# Note: convert_to_eager_tensor currently raises a ValueError, not a\u001b[0m\u001b[0;34m\u001b[0m\u001b[0;34m\u001b[0m\u001b[0;34m\u001b[0m\u001b[0m\n",
      "\u001b[0;31mTypeError\u001b[0m: equal() missing 1 required positional argument: 'y'"
     ]
    }
   ],
   "source": [
    "tf.equal(tf.transpose(ind))"
   ]
  },
  {
   "cell_type": "code",
   "execution_count": 224,
   "metadata": {},
   "outputs": [],
   "source": [
    "all_bins = tf.range(BINS_MAX, dtype = DTYPEINT)\n",
    "mask = tf.transpose(tf.equal(all_ind, all_bins))\n",
    "res_tmp = tf.where(mask, tmp2, tf.zeros_like(tmp2))"
   ]
  },
  {
   "cell_type": "code",
   "execution_count": 225,
   "metadata": {},
   "outputs": [
    {
     "data": {
      "text/plain": [
       "<tf.Tensor: id=168564, shape=(5, 1000), dtype=float64, numpy=\n",
       "array([[0.00000000e+00, 0.00000000e+00, 0.00000000e+00, ...,\n",
       "        0.00000000e+00, 0.00000000e+00, 0.00000000e+00],\n",
       "       [0.00000000e+00, 0.00000000e+00, 1.00138178e-12, ...,\n",
       "        0.00000000e+00, 0.00000000e+00, 0.00000000e+00],\n",
       "       [0.00000000e+00, 0.00000000e+00, 0.00000000e+00, ...,\n",
       "        0.00000000e+00, 0.00000000e+00, 0.00000000e+00],\n",
       "       [0.00000000e+00, 0.00000000e+00, 0.00000000e+00, ...,\n",
       "        0.00000000e+00, 1.39983185e-11, 0.00000000e+00],\n",
       "       [4.80493693e-33, 6.45758328e-41, 0.00000000e+00, ...,\n",
       "        3.34228994e-29, 0.00000000e+00, 4.52984688e-27]])>"
      ]
     },
     "execution_count": 225,
     "metadata": {},
     "output_type": "execute_result"
    }
   ],
   "source": [
    "res_tmp"
   ]
  },
  {
   "cell_type": "code",
   "execution_count": null,
   "metadata": {},
   "outputs": [],
   "source": []
  }
 ],
 "metadata": {
  "kernelspec": {
   "display_name": "Python 3",
   "language": "python",
   "name": "python3"
  },
  "language_info": {
   "codemirror_mode": {
    "name": "ipython",
    "version": 3
   },
   "file_extension": ".py",
   "mimetype": "text/x-python",
   "name": "python",
   "nbconvert_exporter": "python",
   "pygments_lexer": "ipython3",
   "version": "3.7.4"
  }
 },
 "nbformat": 4,
 "nbformat_minor": 2
}
